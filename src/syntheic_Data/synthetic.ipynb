{
 "cells": [
  {
   "cell_type": "code",
   "execution_count": 2,
   "id": "a7ab6942",
   "metadata": {},
   "outputs": [
    {
     "name": "stdout",
     "output_type": "stream",
     "text": [
      "README.md           db.sqlite3          \u001b[34melevate\u001b[m\u001b[m/            \u001b[34msrc\u001b[m\u001b[m/\n",
      "\u001b[34mcrm\u001b[m\u001b[m/                db.sqlite3-journal  \u001b[31mmanage.py\u001b[m\u001b[m*\n"
     ]
    }
   ],
   "source": [
    "ls ../../"
   ]
  },
  {
   "cell_type": "markdown",
   "id": "8d6209aa",
   "metadata": {},
   "source": [
    "# Connect to postgres database"
   ]
  },
  {
   "cell_type": "code",
   "execution_count": null,
   "id": "c59c385b",
   "metadata": {},
   "outputs": [
    {
     "name": "stdout",
     "output_type": "stream",
     "text": [
      "Columns: ['id', 'name', 'membership_plan', 'membership_active', 'unique_code', 'created_at', 'updated_at']\n",
      "Number of records found: 1\n",
      "\n",
      "Sample data (first 5 records):\n",
      "(1, 'Ali', 'P', True, '1000', datetime.datetime(2025, 6, 16, 21, 45, 35, 270525, tzinfo=datetime.timezone.utc), datetime.datetime(2025, 6, 16, 21, 45, 35, 270525, tzinfo=datetime.timezone.utc))\n"
     ]
    }
   ],
   "source": [
    "import psycopg2\n",
    "\n",
    "DB_CONFIG = {\n",
    "    'dbname': 'elevate_db',\n",
    "    'user': 'eval_user',\n",
    "    'password': 'eval_password',    \n",
    "    'host': 'localhost',\n",
    "    'port': 5432  # default PostgreSQL port\n",
    "}\n",
    "try:\n",
    "    # Connect to PostgreSQL\n",
    "    conn = psycopg2.connect(**DB_CONFIG)\n",
    "    cursor = conn.cursor()\n",
    "\n",
    "    # Query all records from crm_membership table\n",
    "    cursor.execute('SELECT * FROM crm_membership LIMIT 10')\n",
    "    results = cursor.fetchall()\n",
    "\n",
    "    # Get column names\n",
    "    column_names = [desc[0] for desc in cursor.description]\n",
    "    print(f\"Columns: {column_names}\")\n",
    "\n",
    "    # Show number of records and sample data\n",
    "    print(f\"Number of records found: {len(results)}\")\n",
    "    if results:\n",
    "        print(\"\\nSample data (first 5 records):\")\n",
    "        for row in results[:5]:\n",
    "            print(row)\n",
    "    else:\n",
    "        print(\"\\nNo records found in the crm_membership table.\")\n",
    "\n",
    "except psycopg2.Error as e:\n",
    "    print(\"Database error:\", e)\n",
    "\n",
    "finally:\n",
    "    # Close connection\n",
    "    if 'cursor' in locals():\n",
    "        cursor.close()\n",
    "    if 'conn' in locals():\n",
    "        conn.close()\n"
   ]
  },
  {
   "cell_type": "code",
   "execution_count": 3,
   "id": "0d8b5752",
   "metadata": {},
   "outputs": [
    {
     "name": "stdout",
     "output_type": "stream",
     "text": [
      "Requirement already satisfied: Faker in c:\\users\\llmserver\\.conda\\envs\\ninja\\lib\\site-packages (37.3.0)\n",
      "Requirement already satisfied: tzdata in c:\\users\\llmserver\\.conda\\envs\\ninja\\lib\\site-packages (from Faker) (2025.2)\n"
     ]
    }
   ],
   "source": [
    "!pip install Faker\n"
   ]
  },
  {
   "cell_type": "code",
   "execution_count": 15,
   "id": "67e3df7a",
   "metadata": {},
   "outputs": [
    {
     "name": "stdout",
     "output_type": "stream",
     "text": [
      "✅ Successfully inserted 1000 fake crm_membership records.\n"
     ]
    }
   ],
   "source": [
    "from faker import Faker\n",
    "import psycopg2\n",
    "import random\n",
    "from datetime import datetime, timezone\n",
    "import uuid\n",
    "\n",
    "# Initialize Faker\n",
    "fake = Faker()\n",
    "\n",
    "\n",
    "# Generate a single fake membership row\n",
    "def generate_fake_membership():\n",
    "    name = fake.first_name()\n",
    "    membership_plan = random.choice(['B', 'S', 'P'])  # Basic, Standard, Premium (adjust if needed)\n",
    "    membership_active = random.choice([True, False])\n",
    "    unique_code = str(random.randint(1000, 9999))\n",
    "    now = datetime.now(timezone.utc)\n",
    "    return (name, membership_plan, membership_active, unique_code, now, now)\n",
    "\n",
    "try:\n",
    "    conn = psycopg2.connect(**DB_CONFIG)\n",
    "    cursor = conn.cursor()\n",
    "\n",
    "    insert_query = \"\"\"\n",
    "        INSERT INTO crm_membership\n",
    "        (name, membership_plan, membership_active, unique_code, created_at, updated_at)\n",
    "        VALUES (%s, %s, %s, %s, %s, %s)\n",
    "    \"\"\"\n",
    "\n",
    "    # Generate 1000 fake rows\n",
    "    fake_data = [generate_fake_membership() for _ in range(1000)]\n",
    "    cursor.executemany(insert_query, fake_data)\n",
    "    conn.commit()\n",
    "\n",
    "    print(\"✅ Successfully inserted 1000 fake crm_membership records.\")\n",
    "\n",
    "except Exception as e:\n",
    "    print(\"❌ Error:\", e)\n",
    "\n",
    "finally:\n",
    "    if 'cursor' in locals():\n",
    "        cursor.close()\n",
    "    if 'conn' in locals():\n",
    "        conn.close()\n"
   ]
  },
  {
   "cell_type": "code",
   "execution_count": 18,
   "id": "3e7db031",
   "metadata": {},
   "outputs": [
    {
     "name": "stdout",
     "output_type": "stream",
     "text": [
      "✅ Columns in 'education_course':\n",
      "- id\n",
      "- Course_title\n",
      "- Course_description\n",
      "- Course_start_date\n",
      "- Course_end_date\n",
      "- Course_instructor\n",
      "- slug\n"
     ]
    }
   ],
   "source": [
    "import psycopg2\n",
    "\n",
    "\n",
    "try:\n",
    "    conn = psycopg2.connect(**DB_CONFIG)\n",
    "    cursor = conn.cursor()\n",
    "\n",
    "    # Fetch column names from the education_course table\n",
    "    cursor.execute(\"\"\"\n",
    "        SELECT column_name\n",
    "        FROM information_schema.columns\n",
    "        WHERE table_name = 'education_course'\n",
    "        ORDER BY ordinal_position\n",
    "    \"\"\")\n",
    "    \n",
    "    columns = [row[0] for row in cursor.fetchall()]\n",
    "    print(\"✅ Columns in 'education_course':\")\n",
    "    for col in columns:\n",
    "        print(f\"- {col}\")\n",
    "\n",
    "except Exception as e:\n",
    "    print(\"❌ Error:\", e)\n",
    "\n",
    "finally:\n",
    "    if 'cursor' in locals():\n",
    "        cursor.close()\n",
    "    if 'conn' in locals():\n",
    "        conn.close()\n"
   ]
  },
  {
   "cell_type": "code",
   "execution_count": 24,
   "id": "dabdc9a5",
   "metadata": {},
   "outputs": [
    {
     "name": "stdout",
     "output_type": "stream",
     "text": [
      "✅ 100 fake courses with lessons inserted into PostgreSQL.\n"
     ]
    }
   ],
   "source": [
    "import psycopg2\n",
    "from faker import Faker\n",
    "from datetime import timedelta, datetime, timezone\n",
    "import random\n",
    "from slugify import slugify  # pip install python-slugify\n",
    "\n",
    "# Setup Faker\n",
    "fake = Faker()\n",
    "\n",
    "\n",
    "# Connect to PostgreSQL\n",
    "conn = psycopg2.connect(**DB_CONFIG)\n",
    "cursor = conn.cursor()\n",
    "\n",
    "# Insert 100 fake courses\n",
    "for _ in range(100):\n",
    "    course_title = fake.sentence(nb_words=4).rstrip('.')\n",
    "    course_description = fake.paragraph(nb_sentences=5)\n",
    "    start_date = fake.date_between(start_date='-1y', end_date='today')\n",
    "    end_date = start_date + timedelta(days=random.randint(30, 180))\n",
    "    instructor = fake.name()\n",
    "    slug = slugify(course_title)\n",
    "\n",
    "    # Insert into Course table\n",
    "# Insert into Course table\n",
    "    cursor.execute(\"\"\"\n",
    "        INSERT INTO education_course \n",
    "            (\"Course_title\", \"Course_description\", \"Course_start_date\", \"Course_end_date\", \"Course_instructor\", \"slug\")\n",
    "        VALUES (%s, %s, %s, %s, %s, %s)\n",
    "        RETURNING id\n",
    "    \"\"\", (course_title, course_description, start_date, end_date, instructor, slug))\n",
    "\n",
    "    course_id = cursor.fetchone()[0]\n",
    "\n",
    "    # Insert 5–10 lessons for the course\n",
    "    for i in range(1, random.randint(5, 10) + 1):\n",
    "        lesson_name = fake.sentence(nb_words=3).rstrip('.')\n",
    "        lesson_content = fake.paragraph(nb_sentences=10)\n",
    "        lesson_slug = slugify(lesson_name)\n",
    "\n",
    "        cursor.execute(\"\"\"\n",
    "            INSERT INTO education_lesson (lesson_name, lesson_content, lesson_course_id, lesson_order, slug)\n",
    "            VALUES (%s, %s, %s, %s, %s)\n",
    "        \"\"\", (lesson_name, lesson_content, course_id, i, lesson_slug))\n",
    "\n",
    "# Commit all changes\n",
    "conn.commit()\n",
    "\n",
    "# Close connections\n",
    "cursor.close()\n",
    "conn.close()\n",
    "\n",
    "print(\"✅ 100 fake courses with lessons inserted into PostgreSQL.\")\n"
   ]
  },
  {
   "cell_type": "code",
   "execution_count": 8,
   "id": "e4ed0632",
   "metadata": {},
   "outputs": [
    {
     "name": "stdout",
     "output_type": "stream",
     "text": [
      "Collecting plotly\n",
      "  Downloading plotly-6.1.2-py3-none-any.whl.metadata (6.9 kB)\n",
      "  Downloading plotly-6.1.2-py3-none-any.whl.metadata (6.9 kB)\n",
      "Collecting narwhals>=1.15.1 (from plotly)\n",
      "  Downloading narwhals-1.42.0-py3-none-any.whl.metadata (11 kB)\n",
      "Collecting narwhals>=1.15.1 (from plotly)\n",
      "  Downloading narwhals-1.42.0-py3-none-any.whl.metadata (11 kB)\n",
      "Requirement already satisfied: packaging in /Users/parsanemati/miniconda3/envs/django/lib/python3.10/site-packages (from plotly) (25.0)\n",
      "Downloading plotly-6.1.2-py3-none-any.whl (16.3 MB)\n",
      "\u001b[?25l   \u001b[90m━━━━━━━━━━━━━━━━━━━━━━━━━━━━━━━━━━━━━━━━\u001b[0m \u001b[32m0.0/16.3 MB\u001b[0m \u001b[31m?\u001b[0m eta \u001b[36m-:--:--\u001b[0mRequirement already satisfied: packaging in /Users/parsanemati/miniconda3/envs/django/lib/python3.10/site-packages (from plotly) (25.0)\n",
      "Downloading plotly-6.1.2-py3-none-any.whl (16.3 MB)\n",
      "\u001b[2K   \u001b[90m━━━━━━━━━━━━━━━━━━━━━━━━━━━━━━━━━━━━━━━━\u001b[0m \u001b[32m16.3/16.3 MB\u001b[0m \u001b[31m33.5 MB/s\u001b[0m eta \u001b[36m0:00:00\u001b[0ma \u001b[36m0:00:01\u001b[0m\n",
      "\u001b[?25hDownloading narwhals-1.42.0-py3-none-any.whl (359 kB)\n",
      "\u001b[2K   \u001b[90m━━━━━━━━━━━━━━━━━━━━━━━━━━━━━━━━━━━━━━━━\u001b[0m \u001b[32m16.3/16.3 MB\u001b[0m \u001b[31m33.5 MB/s\u001b[0m eta \u001b[36m0:00:00\u001b[0m\n",
      "\u001b[?25hDownloading narwhals-1.42.0-py3-none-any.whl (359 kB)\n",
      "Installing collected packages: narwhals, plotly\n",
      "\u001b[?25lInstalling collected packages: narwhals, plotly\n",
      "\u001b[2K   \u001b[90m━━━━━━━━━━━━━━━━━━━━━━━━━━━━━━━━━━━━━━━━\u001b[0m \u001b[32m2/2\u001b[0m [plotly]2m1/2\u001b[0m [plotly]\n",
      "\u001b[1A\u001b[2KSuccessfully installed narwhals-1.42.0 plotly-6.1.2\n",
      "\u001b[2K   \u001b[90m━━━━━━━━━━━━━━━━━━━━━━━━━━━━━━━━━━━━━━━━\u001b[0m \u001b[32m2/2\u001b[0m [plotly]\n",
      "\u001b[1A\u001b[2KSuccessfully installed narwhals-1.42.0 plotly-6.1.2\n"
     ]
    }
   ],
   "source": [
    "!pip install plotly"
   ]
  },
  {
   "cell_type": "code",
   "execution_count": 11,
   "id": "90dc0310",
   "metadata": {},
   "outputs": [
    {
     "data": {
      "application/vnd.plotly.v1+json": {
       "config": {
        "plotlyServerURL": "https://plot.ly"
       },
       "data": [
        {
         "bingroup": "x",
         "hovertemplate": "Price (USD)=%{x}<br>count=%{y}<extra></extra>",
         "legendgroup": "",
         "marker": {
          "color": "#636efa",
          "pattern": {
           "shape": ""
          }
         },
         "name": "",
         "nbinsx": 30,
         "orientation": "v",
         "showlegend": false,
         "type": "histogram",
         "x": {
          "bdata": "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",
          "dtype": "f8"
         },
         "xaxis": "x",
         "yaxis": "y"
        }
       ],
       "layout": {
        "bargap": 0.1,
        "barmode": "relative",
        "legend": {
         "tracegroupgap": 0
        },
        "template": {
         "data": {
          "bar": [
           {
            "error_x": {
             "color": "#2a3f5f"
            },
            "error_y": {
             "color": "#2a3f5f"
            },
            "marker": {
             "line": {
              "color": "white",
              "width": 0.5
             },
             "pattern": {
              "fillmode": "overlay",
              "size": 10,
              "solidity": 0.2
             }
            },
            "type": "bar"
           }
          ],
          "barpolar": [
           {
            "marker": {
             "line": {
              "color": "white",
              "width": 0.5
             },
             "pattern": {
              "fillmode": "overlay",
              "size": 10,
              "solidity": 0.2
             }
            },
            "type": "barpolar"
           }
          ],
          "carpet": [
           {
            "aaxis": {
             "endlinecolor": "#2a3f5f",
             "gridcolor": "#C8D4E3",
             "linecolor": "#C8D4E3",
             "minorgridcolor": "#C8D4E3",
             "startlinecolor": "#2a3f5f"
            },
            "baxis": {
             "endlinecolor": "#2a3f5f",
             "gridcolor": "#C8D4E3",
             "linecolor": "#C8D4E3",
             "minorgridcolor": "#C8D4E3",
             "startlinecolor": "#2a3f5f"
            },
            "type": "carpet"
           }
          ],
          "choropleth": [
           {
            "colorbar": {
             "outlinewidth": 0,
             "ticks": ""
            },
            "type": "choropleth"
           }
          ],
          "contour": [
           {
            "colorbar": {
             "outlinewidth": 0,
             "ticks": ""
            },
            "colorscale": [
             [
              0,
              "#0d0887"
             ],
             [
              0.1111111111111111,
              "#46039f"
             ],
             [
              0.2222222222222222,
              "#7201a8"
             ],
             [
              0.3333333333333333,
              "#9c179e"
             ],
             [
              0.4444444444444444,
              "#bd3786"
             ],
             [
              0.5555555555555556,
              "#d8576b"
             ],
             [
              0.6666666666666666,
              "#ed7953"
             ],
             [
              0.7777777777777778,
              "#fb9f3a"
             ],
             [
              0.8888888888888888,
              "#fdca26"
             ],
             [
              1,
              "#f0f921"
             ]
            ],
            "type": "contour"
           }
          ],
          "contourcarpet": [
           {
            "colorbar": {
             "outlinewidth": 0,
             "ticks": ""
            },
            "type": "contourcarpet"
           }
          ],
          "heatmap": [
           {
            "colorbar": {
             "outlinewidth": 0,
             "ticks": ""
            },
            "colorscale": [
             [
              0,
              "#0d0887"
             ],
             [
              0.1111111111111111,
              "#46039f"
             ],
             [
              0.2222222222222222,
              "#7201a8"
             ],
             [
              0.3333333333333333,
              "#9c179e"
             ],
             [
              0.4444444444444444,
              "#bd3786"
             ],
             [
              0.5555555555555556,
              "#d8576b"
             ],
             [
              0.6666666666666666,
              "#ed7953"
             ],
             [
              0.7777777777777778,
              "#fb9f3a"
             ],
             [
              0.8888888888888888,
              "#fdca26"
             ],
             [
              1,
              "#f0f921"
             ]
            ],
            "type": "heatmap"
           }
          ],
          "histogram": [
           {
            "marker": {
             "pattern": {
              "fillmode": "overlay",
              "size": 10,
              "solidity": 0.2
             }
            },
            "type": "histogram"
           }
          ],
          "histogram2d": [
           {
            "colorbar": {
             "outlinewidth": 0,
             "ticks": ""
            },
            "colorscale": [
             [
              0,
              "#0d0887"
             ],
             [
              0.1111111111111111,
              "#46039f"
             ],
             [
              0.2222222222222222,
              "#7201a8"
             ],
             [
              0.3333333333333333,
              "#9c179e"
             ],
             [
              0.4444444444444444,
              "#bd3786"
             ],
             [
              0.5555555555555556,
              "#d8576b"
             ],
             [
              0.6666666666666666,
              "#ed7953"
             ],
             [
              0.7777777777777778,
              "#fb9f3a"
             ],
             [
              0.8888888888888888,
              "#fdca26"
             ],
             [
              1,
              "#f0f921"
             ]
            ],
            "type": "histogram2d"
           }
          ],
          "histogram2dcontour": [
           {
            "colorbar": {
             "outlinewidth": 0,
             "ticks": ""
            },
            "colorscale": [
             [
              0,
              "#0d0887"
             ],
             [
              0.1111111111111111,
              "#46039f"
             ],
             [
              0.2222222222222222,
              "#7201a8"
             ],
             [
              0.3333333333333333,
              "#9c179e"
             ],
             [
              0.4444444444444444,
              "#bd3786"
             ],
             [
              0.5555555555555556,
              "#d8576b"
             ],
             [
              0.6666666666666666,
              "#ed7953"
             ],
             [
              0.7777777777777778,
              "#fb9f3a"
             ],
             [
              0.8888888888888888,
              "#fdca26"
             ],
             [
              1,
              "#f0f921"
             ]
            ],
            "type": "histogram2dcontour"
           }
          ],
          "mesh3d": [
           {
            "colorbar": {
             "outlinewidth": 0,
             "ticks": ""
            },
            "type": "mesh3d"
           }
          ],
          "parcoords": [
           {
            "line": {
             "colorbar": {
              "outlinewidth": 0,
              "ticks": ""
             }
            },
            "type": "parcoords"
           }
          ],
          "pie": [
           {
            "automargin": true,
            "type": "pie"
           }
          ],
          "scatter": [
           {
            "fillpattern": {
             "fillmode": "overlay",
             "size": 10,
             "solidity": 0.2
            },
            "type": "scatter"
           }
          ],
          "scatter3d": [
           {
            "line": {
             "colorbar": {
              "outlinewidth": 0,
              "ticks": ""
             }
            },
            "marker": {
             "colorbar": {
              "outlinewidth": 0,
              "ticks": ""
             }
            },
            "type": "scatter3d"
           }
          ],
          "scattercarpet": [
           {
            "marker": {
             "colorbar": {
              "outlinewidth": 0,
              "ticks": ""
             }
            },
            "type": "scattercarpet"
           }
          ],
          "scattergeo": [
           {
            "marker": {
             "colorbar": {
              "outlinewidth": 0,
              "ticks": ""
             }
            },
            "type": "scattergeo"
           }
          ],
          "scattergl": [
           {
            "marker": {
             "colorbar": {
              "outlinewidth": 0,
              "ticks": ""
             }
            },
            "type": "scattergl"
           }
          ],
          "scattermap": [
           {
            "marker": {
             "colorbar": {
              "outlinewidth": 0,
              "ticks": ""
             }
            },
            "type": "scattermap"
           }
          ],
          "scattermapbox": [
           {
            "marker": {
             "colorbar": {
              "outlinewidth": 0,
              "ticks": ""
             }
            },
            "type": "scattermapbox"
           }
          ],
          "scatterpolar": [
           {
            "marker": {
             "colorbar": {
              "outlinewidth": 0,
              "ticks": ""
             }
            },
            "type": "scatterpolar"
           }
          ],
          "scatterpolargl": [
           {
            "marker": {
             "colorbar": {
              "outlinewidth": 0,
              "ticks": ""
             }
            },
            "type": "scatterpolargl"
           }
          ],
          "scatterternary": [
           {
            "marker": {
             "colorbar": {
              "outlinewidth": 0,
              "ticks": ""
             }
            },
            "type": "scatterternary"
           }
          ],
          "surface": [
           {
            "colorbar": {
             "outlinewidth": 0,
             "ticks": ""
            },
            "colorscale": [
             [
              0,
              "#0d0887"
             ],
             [
              0.1111111111111111,
              "#46039f"
             ],
             [
              0.2222222222222222,
              "#7201a8"
             ],
             [
              0.3333333333333333,
              "#9c179e"
             ],
             [
              0.4444444444444444,
              "#bd3786"
             ],
             [
              0.5555555555555556,
              "#d8576b"
             ],
             [
              0.6666666666666666,
              "#ed7953"
             ],
             [
              0.7777777777777778,
              "#fb9f3a"
             ],
             [
              0.8888888888888888,
              "#fdca26"
             ],
             [
              1,
              "#f0f921"
             ]
            ],
            "type": "surface"
           }
          ],
          "table": [
           {
            "cells": {
             "fill": {
              "color": "#EBF0F8"
             },
             "line": {
              "color": "white"
             }
            },
            "header": {
             "fill": {
              "color": "#C8D4E3"
             },
             "line": {
              "color": "white"
             }
            },
            "type": "table"
           }
          ]
         },
         "layout": {
          "annotationdefaults": {
           "arrowcolor": "#2a3f5f",
           "arrowhead": 0,
           "arrowwidth": 1
          },
          "autotypenumbers": "strict",
          "coloraxis": {
           "colorbar": {
            "outlinewidth": 0,
            "ticks": ""
           }
          },
          "colorscale": {
           "diverging": [
            [
             0,
             "#8e0152"
            ],
            [
             0.1,
             "#c51b7d"
            ],
            [
             0.2,
             "#de77ae"
            ],
            [
             0.3,
             "#f1b6da"
            ],
            [
             0.4,
             "#fde0ef"
            ],
            [
             0.5,
             "#f7f7f7"
            ],
            [
             0.6,
             "#e6f5d0"
            ],
            [
             0.7,
             "#b8e186"
            ],
            [
             0.8,
             "#7fbc41"
            ],
            [
             0.9,
             "#4d9221"
            ],
            [
             1,
             "#276419"
            ]
           ],
           "sequential": [
            [
             0,
             "#0d0887"
            ],
            [
             0.1111111111111111,
             "#46039f"
            ],
            [
             0.2222222222222222,
             "#7201a8"
            ],
            [
             0.3333333333333333,
             "#9c179e"
            ],
            [
             0.4444444444444444,
             "#bd3786"
            ],
            [
             0.5555555555555556,
             "#d8576b"
            ],
            [
             0.6666666666666666,
             "#ed7953"
            ],
            [
             0.7777777777777778,
             "#fb9f3a"
            ],
            [
             0.8888888888888888,
             "#fdca26"
            ],
            [
             1,
             "#f0f921"
            ]
           ],
           "sequentialminus": [
            [
             0,
             "#0d0887"
            ],
            [
             0.1111111111111111,
             "#46039f"
            ],
            [
             0.2222222222222222,
             "#7201a8"
            ],
            [
             0.3333333333333333,
             "#9c179e"
            ],
            [
             0.4444444444444444,
             "#bd3786"
            ],
            [
             0.5555555555555556,
             "#d8576b"
            ],
            [
             0.6666666666666666,
             "#ed7953"
            ],
            [
             0.7777777777777778,
             "#fb9f3a"
            ],
            [
             0.8888888888888888,
             "#fdca26"
            ],
            [
             1,
             "#f0f921"
            ]
           ]
          },
          "colorway": [
           "#636efa",
           "#EF553B",
           "#00cc96",
           "#ab63fa",
           "#FFA15A",
           "#19d3f3",
           "#FF6692",
           "#B6E880",
           "#FF97FF",
           "#FECB52"
          ],
          "font": {
           "color": "#2a3f5f"
          },
          "geo": {
           "bgcolor": "white",
           "lakecolor": "white",
           "landcolor": "white",
           "showlakes": true,
           "showland": true,
           "subunitcolor": "#C8D4E3"
          },
          "hoverlabel": {
           "align": "left"
          },
          "hovermode": "closest",
          "mapbox": {
           "style": "light"
          },
          "paper_bgcolor": "white",
          "plot_bgcolor": "white",
          "polar": {
           "angularaxis": {
            "gridcolor": "#EBF0F8",
            "linecolor": "#EBF0F8",
            "ticks": ""
           },
           "bgcolor": "white",
           "radialaxis": {
            "gridcolor": "#EBF0F8",
            "linecolor": "#EBF0F8",
            "ticks": ""
           }
          },
          "scene": {
           "xaxis": {
            "backgroundcolor": "white",
            "gridcolor": "#DFE8F3",
            "gridwidth": 2,
            "linecolor": "#EBF0F8",
            "showbackground": true,
            "ticks": "",
            "zerolinecolor": "#EBF0F8"
           },
           "yaxis": {
            "backgroundcolor": "white",
            "gridcolor": "#DFE8F3",
            "gridwidth": 2,
            "linecolor": "#EBF0F8",
            "showbackground": true,
            "ticks": "",
            "zerolinecolor": "#EBF0F8"
           },
           "zaxis": {
            "backgroundcolor": "white",
            "gridcolor": "#DFE8F3",
            "gridwidth": 2,
            "linecolor": "#EBF0F8",
            "showbackground": true,
            "ticks": "",
            "zerolinecolor": "#EBF0F8"
           }
          },
          "shapedefaults": {
           "line": {
            "color": "#2a3f5f"
           }
          },
          "ternary": {
           "aaxis": {
            "gridcolor": "#DFE8F3",
            "linecolor": "#A2B1C6",
            "ticks": ""
           },
           "baxis": {
            "gridcolor": "#DFE8F3",
            "linecolor": "#A2B1C6",
            "ticks": ""
           },
           "bgcolor": "white",
           "caxis": {
            "gridcolor": "#DFE8F3",
            "linecolor": "#A2B1C6",
            "ticks": ""
           }
          },
          "title": {
           "x": 0.05
          },
          "xaxis": {
           "automargin": true,
           "gridcolor": "#EBF0F8",
           "linecolor": "#EBF0F8",
           "ticks": "",
           "title": {
            "standoff": 15
           },
           "zerolinecolor": "#EBF0F8",
           "zerolinewidth": 2
          },
          "yaxis": {
           "automargin": true,
           "gridcolor": "#EBF0F8",
           "linecolor": "#EBF0F8",
           "ticks": "",
           "title": {
            "standoff": 15
           },
           "zerolinecolor": "#EBF0F8",
           "zerolinewidth": 2
          }
         }
        },
        "title": {
         "text": "Distribution of Housing Prices"
        },
        "xaxis": {
         "anchor": "y",
         "domain": [
          0,
          1
         ],
         "title": {
          "text": "Price (USD)"
         }
        },
        "yaxis": {
         "anchor": "x",
         "domain": [
          0,
          1
         ],
         "title": {
          "text": "count"
         }
        }
       }
      }
     },
     "metadata": {},
     "output_type": "display_data"
    }
   ],
   "source": [
    "import plotly.express as px\n",
    "import numpy as np\n",
    "\n",
    "# Generate some example housing prices\n",
    "np.random.seed(42)\n",
    "housing_prices = np.random.normal(loc=300_000, scale=50_000, size=500)\n",
    "\n",
    "# Create histogram\n",
    "fig = px.histogram(\n",
    "    x=housing_prices,\n",
    "    nbins=30,\n",
    "    title=\"Distribution of Housing Prices\",\n",
    "    labels={\"x\": \"Price (USD)\", \"y\": \"Count\"},\n",
    ")\n",
    "\n",
    "# Customize appearance\n",
    "fig.update_layout(\n",
    "    bargap=0.1,\n",
    "    template=\"plotly_white\",\n",
    ")\n",
    "\n",
    "# Show the chart\n",
    "fig.show()\n"
   ]
  }
 ],
 "metadata": {
  "kernelspec": {
   "display_name": "ninja",
   "language": "python",
   "name": "python3"
  },
  "language_info": {
   "codemirror_mode": {
    "name": "ipython",
    "version": 3
   },
   "file_extension": ".py",
   "mimetype": "text/x-python",
   "name": "python",
   "nbconvert_exporter": "python",
   "pygments_lexer": "ipython3",
   "version": "3.10.16"
  }
 },
 "nbformat": 4,
 "nbformat_minor": 5
}
