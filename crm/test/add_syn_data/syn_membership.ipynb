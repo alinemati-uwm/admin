{
 "cells": [
  {
   "cell_type": "code",
   "execution_count": 7,
   "id": "f11bda0b",
   "metadata": {},
   "outputs": [
    {
     "name": "stdout",
     "output_type": "stream",
     "text": [
      "Requirement already satisfied: pandas in /Users/parsanemati/miniconda3/envs/django/lib/python3.10/site-packages (2.2.3)\n",
      "Requirement already satisfied: sqlalchemy in /Users/parsanemati/miniconda3/envs/django/lib/python3.10/site-packages (2.0.41)\n",
      "Requirement already satisfied: faker in /Users/parsanemati/miniconda3/envs/django/lib/python3.10/site-packages (37.4.0)\n",
      "Requirement already satisfied: psycopg2-binary in /Users/parsanemati/miniconda3/envs/django/lib/python3.10/site-packages (2.9.10)\n",
      "Collecting python-slugify\n",
      "  Using cached python_slugify-8.0.4-py2.py3-none-any.whl.metadata (8.5 kB)\n",
      "Requirement already satisfied: numpy>=1.22.4 in /Users/parsanemati/miniconda3/envs/django/lib/python3.10/site-packages (from pandas) (2.2.6)\n",
      "Requirement already satisfied: python-dateutil>=2.8.2 in /Users/parsanemati/miniconda3/envs/django/lib/python3.10/site-packages (from pandas) (2.9.0.post0)\n",
      "Requirement already satisfied: pytz>=2020.1 in /Users/parsanemati/miniconda3/envs/django/lib/python3.10/site-packages (from pandas) (2025.2)\n",
      "Requirement already satisfied: tzdata>=2022.7 in /Users/parsanemati/miniconda3/envs/django/lib/python3.10/site-packages (from pandas) (2025.2)\n",
      "Requirement already satisfied: typing-extensions>=4.6.0 in /Users/parsanemati/miniconda3/envs/django/lib/python3.10/site-packages (from sqlalchemy) (4.13.2)\n",
      "Collecting text-unidecode>=1.3 (from python-slugify)\n",
      "  Using cached text_unidecode-1.3-py2.py3-none-any.whl.metadata (2.4 kB)\n",
      "Requirement already satisfied: six>=1.5 in /Users/parsanemati/miniconda3/envs/django/lib/python3.10/site-packages (from python-dateutil>=2.8.2->pandas) (1.17.0)\n",
      "Using cached python_slugify-8.0.4-py2.py3-none-any.whl (10 kB)\n",
      "Using cached text_unidecode-1.3-py2.py3-none-any.whl (78 kB)\n",
      "Installing collected packages: text-unidecode, python-slugify\n",
      "\u001b[2K   \u001b[90m━━━━━━━━━━━━━━━━━━━━━━━━━━━━━━━━━━━━━━━━\u001b[0m \u001b[32m2/2\u001b[0m [python-slugify]\n",
      "\u001b[1A\u001b[2KSuccessfully installed python-slugify-8.0.4 text-unidecode-1.3\n"
     ]
    }
   ],
   "source": [
    "# !pip install pandas sqlalchemy psycopg2 faker \n",
    "!pip install pandas sqlalchemy faker psycopg2-binary  python-slugify\n"
   ]
  },
  {
   "cell_type": "code",
   "execution_count": 15,
   "id": "7de9ea58",
   "metadata": {},
   "outputs": [
    {
     "name": "stdout",
     "output_type": "stream",
     "text": [
      "✅ Synthetic data inserted successfully!\n"
     ]
    }
   ],
   "source": [
    "import pandas as pd\n",
    "import random\n",
    "import string\n",
    "from faker import Faker\n",
    "from sqlalchemy import create_engine\n",
    "\n",
    "# Initialize Faker\n",
    "fake = Faker()\n",
    "\n",
    "# PostgreSQL DB credentials\n",
    "DB_CONFIG = {\n",
    "    'user': 'eval_user',\n",
    "    'password': 'eval_password',\n",
    "    'host': 'localhost',\n",
    "    'port': '5436',\n",
    "    'dbname': 'elevate_db'\n",
    "}\n",
    "\n",
    "def generate_unique_code():\n",
    "    return ''.join(random.choices(string.ascii_uppercase + string.digits, k=12))\n",
    "\n",
    "membership_choices = [\"S\", \"P\", \"UX\"]\n",
    "\n",
    "def generate_membership_data(n=100):\n",
    "    data = []\n",
    "    for _ in range(n):\n",
    "        name = fake.name()\n",
    "        plan = random.choice(membership_choices)\n",
    "        active = random.choice([True, False])\n",
    "        unique_code = generate_unique_code()\n",
    "        created_at = fake.date_time_this_year()\n",
    "        updated_at = created_at\n",
    "        data.append([name, plan, active, created_at, updated_at, unique_code])\n",
    "    df = pd.DataFrame(data, columns=[\n",
    "        \"name\", \"membership_plan\", \"membership_active\", \"created_at\", \"updated_at\", \"unique_code\"\n",
    "    ])\n",
    "    df.drop_duplicates(subset=['name', 'unique_code'], inplace=True)\n",
    "    return df\n",
    "\n",
    "df = generate_membership_data(100)\n",
    "\n",
    "engine_url = (\n",
    "    f\"postgresql+psycopg2://{DB_CONFIG['user']}:{DB_CONFIG['password']}\"\n",
    "    f\"@{DB_CONFIG['host']}:{DB_CONFIG['port']}/{DB_CONFIG['dbname']}\"\n",
    ")\n",
    "engine = create_engine(engine_url)\n",
    "\n",
    "df.to_sql(\"crm_membership\", engine, if_exists=\"append\", index=False)\n",
    "print(\"✅ Synthetic data inserted successfully!\")\n"
   ]
  },
  {
   "cell_type": "code",
   "execution_count": 14,
   "id": "9ee3646c",
   "metadata": {},
   "outputs": [
    {
     "name": "stdout",
     "output_type": "stream",
     "text": [
      "✅ Inserted synthetic data into education_course and education_lesson.\n"
     ]
    }
   ],
   "source": [
    "import psycopg2\n",
    "from faker import Faker\n",
    "from slugify import slugify\n",
    "import random\n",
    "\n",
    "# Setup Faker\n",
    "fake = Faker()\n",
    "\n",
    "# Connect to PostgreSQL\n",
    "conn = psycopg2.connect(\n",
    "    dbname=\"elevate_db\",\n",
    "    user=\"eval_user\",\n",
    "    password=\"eval_password\",\n",
    "    host=\"localhost\",\n",
    "    port=\"5436\"\n",
    ")\n",
    "cursor = conn.cursor()\n",
    "\n",
    "# Optional: Clear old data\n",
    "cursor.execute(\"DELETE FROM education_lesson\")\n",
    "cursor.execute(\"DELETE FROM education_course\")\n",
    "conn.commit()\n",
    "\n",
    "# Insert synthetic Course records\n",
    "course_ids = []\n",
    "for _ in range(10):\n",
    "    title = fake.sentence(nb_words=3).rstrip('.')\n",
    "    description = fake.paragraph(nb_sentences=4)\n",
    "    start_date = fake.date_this_year()\n",
    "    end_date = fake.date_between(start_date=start_date, end_date=\"+60d\")\n",
    "    instructor = fake.name()\n",
    "    slug = slugify(title)\n",
    "\n",
    "    cursor.execute('''\n",
    "        INSERT INTO education_course (\n",
    "            \"Course_title\", \"Course_description\", \"Course_start_date\",\n",
    "            \"Course_end_date\", \"Course_instructor\", \"slug\"\n",
    "        ) VALUES (%s, %s, %s, %s, %s, %s)\n",
    "        RETURNING id\n",
    "    ''', (title, description, start_date, end_date, instructor, slug))\n",
    "\n",
    "    course_id = cursor.fetchone()[0]\n",
    "    course_ids.append(course_id)\n",
    "\n",
    "# Insert synthetic Lessons for each Course\n",
    "for course_id in course_ids:\n",
    "    for order in range(1, random.randint(3, 6)):\n",
    "        name = fake.sentence(nb_words=4).rstrip('.')\n",
    "        content = fake.paragraph(nb_sentences=6)\n",
    "        slug = slugify(name)\n",
    "\n",
    "        cursor.execute('''\n",
    "            INSERT INTO education_lesson (\n",
    "                lesson_name, lesson_content, lesson_order,\n",
    "                slug, lesson_course_id\n",
    "            ) VALUES (%s, %s, %s, %s, %s)\n",
    "        ''', (name, content, order, slug, course_id))\n",
    "\n",
    "conn.commit()\n",
    "cursor.close()\n",
    "conn.close()\n",
    "\n",
    "print(\"✅ Inserted synthetic data into education_course and education_lesson.\")\n"
   ]
  }
 ],
 "metadata": {
  "kernelspec": {
   "display_name": "django",
   "language": "python",
   "name": "python3"
  },
  "language_info": {
   "codemirror_mode": {
    "name": "ipython",
    "version": 3
   },
   "file_extension": ".py",
   "mimetype": "text/x-python",
   "name": "python",
   "nbconvert_exporter": "python",
   "pygments_lexer": "ipython3",
   "version": "3.10.16"
  }
 },
 "nbformat": 4,
 "nbformat_minor": 5
}
